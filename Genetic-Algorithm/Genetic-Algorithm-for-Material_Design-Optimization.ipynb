{
 "cells": [
  {
   "cell_type": "markdown",
   "id": "e22c784c",
   "metadata": {},
   "source": [
    "# Development of Deep Learning Guided Genetic Algorithm for Material Design Optimization\n",
    "\n",
    "Kuanlin Chen, PhD student of the schulman lab<br>\n",
    "Advisor: Rebecca Schulman, PhD<br>\n",
    "Johns Hopkins University\n",
    "\n",
    "**Keywords: Machine Learning, Deep Learning, Computer Vision, Numeric Simulation, Multi-Objective Optimization**"
   ]
  },
  {
   "cell_type": "markdown",
   "id": "0f3109dd",
   "metadata": {},
   "source": [
    "***\n",
    "#### Summary:\n",
    "\n",
    "We developed a genetic algorithm to efficiently search through large parameter space for designing our digit automata. \n",
    "\n",
    "The algorithm starts with an initial population of automata designs generated from a random seed. Each design within the population is then simulated to find all possible geometric outputs upon sixteen actuation combination and scored with a deep learning model. During the scoring process, to fully utilize each image, all images are rotated with twenty different degrees and the image with the highest score as a digit is selected to represent the final class and score of the image. We thus get a 2d array documenting what digits are formed and the score for each digits. \n",
    "\n",
    "We next developed a custom loss function to evaluate the performance of each design. We define the loss function as such:\n",
    "\n",
    "$Loss = 5000 * (number\\_of\\_digits\\_formed) * \\sum_{i = 0}^{i = 9}[1.001 - (score\\_for\\_digit\\_i)]$\n",
    "\n",
    "The loss function computes the **diversity** and the **similarity to real digits** for the digits formed. Designs that outputs images resembling a larger number of high-quality digits are more likely to be preserved. During the selection stage, we eliminate 80% of the designs within the population, by selecting the designs that have the 20% lowest loss score. These designs are sent into a mutation function to repopulate a new generation.\n",
    "\n",
    "For the mutation function, we used the **single-parent mutation method** where the genetic information of each descendant come from a single survived design from previous selection. During mutation, each design has a fifty percent chance to randomly update the strip segment lengths, preserving the actuator pattern information; each design also has a fifty percent chance of mutating the actuator pattern, where we randomly mutate half of the pattern. Each survivor design generates four descendants, so the population returns to its original size after every round of selection and mutation. \n",
    "\n",
    "Finally, the algorithm iterates the cylce of population generation, selection and mutation until reaching generation limit and outputs the optimized designs.\n",
    "\n",
    "For our even digit automata and odd digit automata search, we slighlty tweaked the loss function and mutation function to obtain fabricable results. We first included an additional rule within the mutation function to ensure new design are within reasonable patterning steps to avoid generating designs overly complex and un-patternable. We developed a custom fabrication step calculation function `fab_steps_strip_requires` - calculating the sumulative sum of unique actuator systems within each layer, and eliminating mutations that requires more than six fabrication steps. As this step limits the complexity of outputs formed, we aimed to search for patterning an even digit automata and an odd digit automata, changing the loss functions for the two search and derived the final optimized outputs.\n",
    "\n",
    "$Loss = 5000 * (number\\_of\\_digits\\_formed) * \\sum_{i = 1, 3, 5, 7, 9}[1.001 - (score\\_for\\_digit\\_i)]$\n",
    "\n",
    "$Loss = 5000 * (number\\_of\\_digits\\_formed) * \\sum_{i = 0, 2, 4, 6, 8}[1.001 - (score\\_for\\_digit\\_i)]$\n",
    "\n",
    "\n",
    "\n"
   ]
  },
  {
   "cell_type": "code",
   "execution_count": 1,
   "id": "97aff995",
   "metadata": {},
   "outputs": [],
   "source": [
    "import numpy as np\n",
    "import matplotlib.pyplot as plt\n",
    "\n",
    "from strip_sim import *"
   ]
  },
  {
   "cell_type": "markdown",
   "id": "8311b4ac",
   "metadata": {},
   "source": [
    "## Create a sample strip"
   ]
  },
  {
   "cell_type": "code",
   "execution_count": 2,
   "id": "fe337de7",
   "metadata": {},
   "outputs": [],
   "source": [
    "# Sample Design\n",
    "segment_lengths_ex_four_types = [938, 954, 1022, 843, 931, 722, 702, 655, 1066, 947]\n",
    "segment_identities_ex_four_types = [[2,3,2,3,2,3,4,0,1,4],[4,4,3,1,3,4,4,1,3,2]]\n",
    "sampleStrip = ActuatorStrip(segment_lengths_ex_four_types, segment_identities_ex_four_types, four_t_rocs, four_t_ctls)"
   ]
  },
  {
   "cell_type": "markdown",
   "id": "bf44d302",
   "metadata": {},
   "source": [
    "### Multi-Objective Optimization Loss Function\n",
    "\n",
    "$Loss = 5000 * (number\\_of\\_digits\\_formed) * \\sum_{i = 0}^{i = 9}[1.001 - (score\\_for\\_digit\\_i)]$\n",
    "\n",
    "This loss function computes the **diversity** and the **similarity to real digits** for the digits formed. Designs that outputs images resembling a larger number of high-quality digits are more likely to be preserved."
   ]
  },
  {
   "cell_type": "code",
   "execution_count": 3,
   "id": "a609640b",
   "metadata": {},
   "outputs": [
    {
     "data": {
      "text/plain": [
       "-2275695.1417187443"
      ]
     },
     "execution_count": 3,
     "metadata": {},
     "output_type": "execute_result"
    }
   ],
   "source": [
    "def loss_on_dig_sim_var_v2(strip, rotation = 20):\n",
    "    \"\"\"\n",
    "    - loss on digit similarity and variety\n",
    "    - default 20 rotations\n",
    "    - Final design score list would be stored in a np array, documenting the max score for each digit.\n",
    "    - Reconsider np.log as log would greatly lock into one design for a perfect 1 or 7, as log(1-1) = -inf\n",
    "    \n",
    "    The loss is then calculated by the following:\n",
    "    \n",
    "        digits_for_score = np.log(1 - digit_recs) * 5000 * digits_form)\n",
    "        loss = np.sum(digits_for_score)\n",
    "\n",
    "    Where we're taking the log of each value's distance against one, and scaling with the digit numbers that it can form.\n",
    "    For design that can form more digit number and higher similairy, they can get lower loss.\n",
    "    \"\"\"\n",
    "    strip.analysis(rotation = rotation); output = strip.selected\n",
    "    dig_score = np.zeros(shape=(10, ))\n",
    "    \n",
    "    if output.keys():\n",
    "        for i in output.keys():\n",
    "            dig_score[i] = output[i][\"score\"] \n",
    "#     did 1.001 - dig_score as -inf often appears when 1 is in dig_score\n",
    "    loss = np.sum(np.log(1.001 - dig_score) * 5000 * np.count_nonzero(dig_score))\n",
    "    \n",
    "    return loss\n",
    "\n",
    "loss_on_dig_sim_var_v2(sampleStrip, rotation = 4) # -2080099.4708855439 if 0, messed up, restart kernal"
   ]
  },
  {
   "cell_type": "markdown",
   "id": "085b6324",
   "metadata": {},
   "source": [
    "### Updated Mutation Function controlling fabrication complexity"
   ]
  },
  {
   "cell_type": "code",
   "execution_count": 4,
   "id": "544940c4",
   "metadata": {},
   "outputs": [],
   "source": [
    "def fab_steps_strip_requires(identities):\n",
    "    top_steps = np.size(np.unique(identities[0]))\n",
    "    bottom_steps = np.size(np.unique(identities[1]))\n",
    "    return top_steps + bottom_steps                    \n",
    "\n",
    "def sp_mutation_maxfab_v1(parent_strip, max_segments, min_segment_length,\\\n",
    "                          max_segment_length, max_fab_steps, rocs, ctls, num_actuator_types):\n",
    "    \"\"\"\n",
    "    - single parent mutation\n",
    "    - v1 seems to be unable to produce new identities\n",
    "    - v2 now has 40% new identities chance, and can retain 80% of original genetic info\n",
    "    \"\"\"\n",
    "    # 50% chance in length change\n",
    "    if np.random.random() < .5:\n",
    "#         print(\"length change\")\n",
    "        new_length = np.random.random(size = (max_segments, )) * (max_segment_length - min_segment_length) + min_segment_length\n",
    "        offspring_strip = ActuatorStrip(new_length, parent_strip.identities, rocs, ctls) \n",
    "    # 50% chance in acutator change, mutates 50% of identities\n",
    "    else:\n",
    "#         print(\"idt change\")\n",
    "        satisfy_max_fab = False\n",
    "        while satisfy_max_fab == False:\n",
    "            identities_mutation_rate = .5\n",
    "            sz = int(np.floor(len(parent_strip.identities[0]) * identities_mutation_rate))\n",
    "            new_identities = copy.deepcopy(parent_strip.identities)\n",
    "            for i in range(2):\n",
    "                gene_num = np.random.choice(len(parent_strip.identities[0]), size=(sz,), replace = False)\n",
    "                new_genes = np.random.choice(num_actuator_types + 1, size = (sz,))\n",
    "                for j in range(sz): new_identities[i][gene_num[j]] = new_genes[j] \n",
    "            if (fab_steps_strip_requires(new_identities) <= max_fab_steps):\n",
    "                satisfy_max_fab = True\n",
    "        offspring_strip = ActuatorStrip(parent_strip.segment_lengths, new_identities, rocs, ctls) \n",
    "\n",
    "    return offspring_strip"
   ]
  },
  {
   "cell_type": "markdown",
   "id": "28d3ed4e",
   "metadata": {},
   "source": [
    "### Mutation Function\n",
    "\n",
    "We used the **single-parent mutation method** where the genetic information of each descendant come from a single survived design from previous selection. During mutation, each design has a fifty percent chance to randomly update the strip segment lengths, preserving the actuator pattern information; each design also has a fifty percent chance of mutating the actuator pattern, where we randomly mutate half of the pattern. Each survivor design generates four descendants, so the population returns to its original size after every round of selection and mutation. "
   ]
  },
  {
   "cell_type": "code",
   "execution_count": 5,
   "id": "5cbf270c",
   "metadata": {},
   "outputs": [],
   "source": [
    "def sp_mutation_v2(parent_strip, max_segments, min_segment_length,\\\n",
    "                   rocs, ctls, num_actuator_types):\n",
    "    \"\"\"\n",
    "    - single parent mutation\n",
    "    - v1 seems to be unable to produce new identities\n",
    "    - v2 now has 40% new identities chance, and can retain 80% of original genetic info\n",
    "    \"\"\"\n",
    "    # 50% chance in length change\n",
    "    if np.random.random() < .5:\n",
    "#         print(\"length change\")\n",
    "        new_length = np.random.random(size = (max_segments, )) * min_segment_length + min_segment_length\n",
    "        offspring_strip = ActuatorStrip(new_length, parent_strip.identities, rocs, ctls) \n",
    "    # 50% chance in acutator change, mutates 50% of identities\n",
    "    else:\n",
    "#         print(\"idt change\")\n",
    "        identities_mutation_rate = .5\n",
    "        sz = int(np.floor(len(parent_strip.identities[0]) * identities_mutation_rate))\n",
    "        new_identities = copy.deepcopy(parent_strip.identities)\n",
    "        for i in range(2):\n",
    "            gene_num = np.random.choice(len(parent_strip.identities[0]), size=(sz,), replace = False)\n",
    "            new_genes = np.random.choice(num_actuator_types + 1, size = (sz,))\n",
    "            for j in range(sz): new_identities[i][gene_num[j]] = new_genes[j] \n",
    "        offspring_strip = ActuatorStrip(parent_strip.segment_lengths, new_identities, rocs, ctls) \n",
    "    \n",
    "    return offspring_strip"
   ]
  },
  {
   "cell_type": "markdown",
   "id": "14e67cff",
   "metadata": {},
   "source": [
    "### Combined Genetic Algorithm"
   ]
  },
  {
   "cell_type": "code",
   "execution_count": 6,
   "id": "5e41eacd",
   "metadata": {},
   "outputs": [],
   "source": [
    "def strip_optimizer_gen_alg_v3(rocs, ctls, loss_function, mutation_function, save_filename,\\\n",
    "                               max_segments = 10, min_segment_length = 600,\\\n",
    "                               max_segment_length = 2000, max_fab_steps = 6,\\\n",
    "                               population_size = 20, generation_limit = 2500):\n",
    "    \"\"\"\n",
    "    Genetic Algorithm for Strip Optimizer\n",
    "        1. Creates 100 (or 20 for debug) different random initial design.\n",
    "        2. Score them based on the loss function and get a sum of pupulation score.\n",
    "        3. Kill 80% of the population who has score in the last 80%.\n",
    "        4. Mutate the survivor and rescore them.\n",
    "        5. Goes on and on and on until reaches generation limit\n",
    "    \"\"\"        \n",
    "    def plot_best_fives(population_loss, strip_population, SAVE = False):\n",
    "        \"\"\"\n",
    "        plots 5 best strip design for overall visualization\n",
    "        \"\"\"\n",
    "        best5s = np.argsort(population_loss)[:5]\n",
    "        for best_num in np.flip(best5s):\n",
    "                best_strip = strip_population[best_num]\n",
    "                print(\"Actuator segments are \" + str(best_strip.identities))\n",
    "                print(\"Segment lengths are \" + str(best_strip.segment_lengths))\n",
    "                print(\"Loss is \" + str(population_loss[best_num]))\n",
    "#                 best_strip.plot_input_and_all(rotation = 20, save = False)\n",
    "                best_strip.plot_input_and_selected(rotation = 20, save = SAVE)\n",
    "\n",
    "    def save_best_tens(filename, mode, population_loss, strip_population, gen):\n",
    "        \"\"\"\n",
    "        save 10 best strip design of each generation.\n",
    "        \"\"\"\n",
    "        with open(filename, mode) as f:\n",
    "            f.write(\"Generation {}\\n\".format(gen))\n",
    "            best10s = np.argsort(population_loss)[:10]\n",
    "            for best_num in np.flip(best10s):\n",
    "                    best_strip = strip_population[best_num]\n",
    "                    formed = list(best_strip.selected.keys())\n",
    "                    f.write(\"Segments: {}\\nIdentities: {}\\nFormed: {}\\n\\n\".format(str(best_strip.segment_lengths),str(best_strip.identities),str(formed)))\n",
    "\n",
    "    itr = 0; num_actuator_types = len(rocs[0][0]) - 1\n",
    "    # generate initial population\n",
    "    population_lengths = np.random.random(size = (population_size, max_segments)) * (max_segment_length - min_segment_length) + min_segment_length\n",
    "    population_identities = np.random.randint(0, high = (num_actuator_types + 1), size = (population_size, 2, max_segments))\n",
    "    for i in range(population_size):\n",
    "        found_fabbable = False\n",
    "        #print(\"Generating Step \" + str(i))\n",
    "        while found_fabbable == False:\n",
    "            population_identities[i]=np.random.randint(0, high = (num_actuator_types + 1), size = (2, max_segments))\n",
    "            if fab_steps_strip_requires(population_identities[i]) <= max_fab_steps:\n",
    "                found_fabbable = True\n",
    "               \n",
    "    strip_population = [ActuatorStrip(population_lengths[num], population_identities[num], four_t_rocs, four_t_ctls) for num in range(population_size)]\n",
    "    [strip.generate_curves() for strip in strip_population]\n",
    "    population_loss = [loss_function(strip) for strip in strip_population]\n",
    "    [strip.save_imgs() for strip in strip_population]\n",
    "\n",
    "    # plot 5 best individuals for visualization\n",
    "    plot_best_fives(population_loss, strip_population, SAVE = False)\n",
    "    # save 5 best individuals\n",
    "    save_best_tens(save_filename, \"w\", population_loss, strip_population, itr)\n",
    "    \n",
    "    while itr < generation_limit:\n",
    "        itr += 1\n",
    "        # evolution and mutation\n",
    "        print(\"Evolution {}\".format(itr))\n",
    "\n",
    "        # kills 80% of the population\n",
    "        survivors = np.argsort(population_loss)[:int(np.floor(population_size/5))]\n",
    "        print(\"Survivors: \" + str(survivors))\n",
    "        print(\"Survivor loss: \" + str([population_loss[i] for i in survivors]))\n",
    "        # mutation and creates 4 offspring for each survivor\n",
    "        new_population = [mutation_function(strip_population[survivor_id], max_segments, min_segment_length,\\\n",
    "                          max_segment_length, max_fab_steps, \n",
    "                          rocs, ctls, num_actuator_types) for survivor_id in survivors for _ in range(4)]\n",
    "        [strip.generate_curves() for strip in new_population]\n",
    "        # Add survivors to new population\n",
    "        [new_population.append(strip_population[survivor_id]) for survivor_id in survivors];\n",
    "        new_loss = [loss_function(strip) for strip in new_population]\n",
    "        [strip.save_imgs() for strip in new_population]\n",
    "\n",
    "        # plot 5 best individuals for visualization\n",
    "        if itr == generation_limit:\n",
    "            plot_best_fives(new_loss, new_population, SAVE = True)\n",
    "        else:\n",
    "            plot_best_fives(new_loss, new_population, SAVE = False)\n",
    "            \n",
    "        save_best_tens(save_filename, \"a+\", new_loss, new_population, itr)\n",
    "        print(\"delta population loss: %.4f\"%(np.sum(new_loss)-np.sum(population_loss)))\n",
    "        population_loss = new_loss; strip_population = new_population\n"
   ]
  }
 ],
 "metadata": {
  "kernelspec": {
   "display_name": "Python 3",
   "language": "python",
   "name": "python3"
  },
  "language_info": {
   "codemirror_mode": {
    "name": "ipython",
    "version": 3
   },
   "file_extension": ".py",
   "mimetype": "text/x-python",
   "name": "python",
   "nbconvert_exporter": "python",
   "pygments_lexer": "ipython3",
   "version": "3.6.13"
  }
 },
 "nbformat": 4,
 "nbformat_minor": 5
}
